{
 "cells": [
  {
   "cell_type": "code",
   "execution_count": 1,
   "metadata": {},
   "outputs": [],
   "source": [
    "# Import Dependicies\n",
    "from selenium.webdriver import Edge\n",
    "from selenium.webdriver.support.ui import Select\n",
    "import time\n",
    "# Open Edge instance for navigation\n",
    "driver = Edge(executable_path=r\"C:\\Users\\Eric\\Desktop\\Coding Stuff\\SD_Code\\SD_Auto_Driver_Install\\edgedriver_win64\\msedgedriver.exe\")"
   ]
  },
  {
   "cell_type": "code",
   "execution_count": 2,
   "metadata": {},
   "outputs": [],
   "source": [
    "# Navigate to specified website\n",
    "driver.get(\"https://www.nvidia.com/Download/index.aspx?lang=en-in\")\n"
   ]
  },
  {
   "cell_type": "code",
   "execution_count": 3,
   "metadata": {},
   "outputs": [],
   "source": [
    "#This block of code sets all the dropdown menus to the correct selections\n",
    "#==============================================================================================\n",
    "\n",
    "# Store product type drop down menu as object and Select GeForce from dropdown menu\n",
    "product_type_selector = Select(driver.find_element_by_id('selProductSeriesType'))\n",
    "product_type_selector.select_by_value('1')\n",
    "\n",
    "\n",
    "product_series_selector = Select(driver.find_element_by_id('selProductSeries'))\n",
    "product_series_selector.select_by_visible_text('GeForce RTX 30 Series')\n",
    "\n",
    "\n",
    "download_type_selector = Select(driver.find_element_by_id('ddlDownloadTypeCrdGrd'))\n",
    "download_type_selector.select_by_visible_text('Game Ready Driver (GRD)')\n",
    "\n",
    "\n",
    "download_language_selector = Select(driver.find_element_by_id('ddlLanguage'))\n",
    "download_language_selector.select_by_value('1')\n"
   ]
  },
  {
   "cell_type": "code",
   "execution_count": 4,
   "metadata": {},
   "outputs": [],
   "source": [
    "# Clicks button to search for driver\n",
    "search_button = driver.find_element_by_xpath(\"//a[@href='javascript: GetDriver();']\")\n",
    "search_button.click()"
   ]
  },
  {
   "cell_type": "code",
   "execution_count": 5,
   "metadata": {},
   "outputs": [],
   "source": [
    "# CLicks button to search for \n",
    "download_link = driver.find_element_by_id('lnkDwnldBtn')\n",
    "download_link.click()"
   ]
  },
  {
   "cell_type": "code",
   "execution_count": 9,
   "metadata": {},
   "outputs": [],
   "source": [
    "download_button = driver.find_element_by_xpath(\"//a[starts-with(@href, '//us.download.nvidia.com/Windows')]\")\n",
    "download_button.click()"
   ]
  }
 ],
 "metadata": {
  "kernelspec": {
   "display_name": "Python 3",
   "language": "python",
   "name": "python3"
  },
  "language_info": {
   "codemirror_mode": {
    "name": "ipython",
    "version": 3
   },
   "file_extension": ".py",
   "mimetype": "text/x-python",
   "name": "python",
   "nbconvert_exporter": "python",
   "pygments_lexer": "ipython3",
   "version": "3.7.9"
  }
 },
 "nbformat": 4,
 "nbformat_minor": 4
}